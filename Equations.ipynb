{
 "cells": [
  {
   "cell_type": "code",
   "execution_count": 4,
   "metadata": {},
   "outputs": [],
   "source": [
    "from PIL import Image\n",
    "from pix2tex.cli import LatexOCR\n",
    "model = LatexOCR()\n",
    "eqn_path = 'c:\\\\Users\\\\jones\\\\Documents\\\\Atto\\\\Calculations\\\\Molecular-HHG\\Manuscript\\Figures/'"
   ]
  },
  {
   "cell_type": "code",
   "execution_count": 6,
   "metadata": {},
   "outputs": [
    {
     "name": "stdout",
     "output_type": "stream",
     "text": [
      "\\psi[n](x_{1},\\cdots,x_{N},t)=\\sum_{i=1}^{\\infty}a_{i}[n](t)\\psi_{i}(x_{1},\\cdots,x_{N}),\n"
     ]
    }
   ],
   "source": [
    "img = Image.open(eqn_path+'Screenshot 2024-01-10 125010.png')\n",
    "print(model(img))\n"
   ]
  }
 ],
 "metadata": {
  "kernelspec": {
   "display_name": "CompEnv",
   "language": "python",
   "name": "python3"
  },
  "language_info": {
   "codemirror_mode": {
    "name": "ipython",
    "version": 3
   },
   "file_extension": ".py",
   "mimetype": "text/x-python",
   "name": "python",
   "nbconvert_exporter": "python",
   "pygments_lexer": "ipython3",
   "version": "3.11.5"
  }
 },
 "nbformat": 4,
 "nbformat_minor": 2
}
